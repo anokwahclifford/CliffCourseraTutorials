{
 "cells": [
  {
   "cell_type": "markdown",
   "id": "1a911e5a",
   "metadata": {},
   "source": [
    "# Data Science Tools and Ecosystem"
   ]
  },
  {
   "cell_type": "markdown",
   "id": "a8191cc3",
   "metadata": {},
   "source": [
    "In this notebook, Data Science Tools and Ecosystem are Summarized."
   ]
  },
  {
   "cell_type": "markdown",
   "id": "231a9df3",
   "metadata": {},
   "source": [
    "## Some of the languages that Data Sceintis use are :\n",
    "1.Numpy"
   ]
  },
  {
   "cell_type": "markdown",
   "id": "bc9e09c6",
   "metadata": {},
   "source": [
    "2.Panda"
   ]
  },
  {
   "cell_type": "markdown",
   "id": "56b2d336",
   "metadata": {},
   "source": [
    "3.Julia"
   ]
  },
  {
   "cell_type": "markdown",
   "id": "f9916544",
   "metadata": {},
   "source": [
    "4.SQL"
   ]
  },
  {
   "cell_type": "markdown",
   "id": "4eff59e8",
   "metadata": {},
   "source": [
    "## Some of the commonly used libraries used by Data scientists include:"
   ]
  },
  {
   "cell_type": "markdown",
   "id": "8ddcbb17",
   "metadata": {},
   "source": [
    "1. pandas"
   ]
  },
  {
   "cell_type": "markdown",
   "id": "2e08c72c",
   "metadata": {},
   "source": [
    "2. matplotlib"
   ]
  },
  {
   "cell_type": "markdown",
   "id": "ad91c3cd",
   "metadata": {},
   "source": [
    "3. Scikit-learn"
   ]
  },
  {
   "cell_type": "markdown",
   "id": "0f371dbe",
   "metadata": {},
   "source": [
    "4. Numpy"
   ]
  },
  {
   "cell_type": "markdown",
   "id": "d25d8489",
   "metadata": {},
   "source": [
    "## Data Science Tools\n",
    "|Data Science Tools|\n",
    "|------------------|\n",
    "|Jupyter Notebooks|\n",
    "|RStudio          |\n",
    "|Vs Code          |"
   ]
  },
  {
   "cell_type": "markdown",
   "id": "edbec3cf",
   "metadata": {},
   "source": [
    "## Below are few examples of evaluating arithmetic expressions in Python"
   ]
  },
  {
   "cell_type": "code",
   "execution_count": 11,
   "id": "846f21a2",
   "metadata": {},
   "outputs": [
    {
     "data": {
      "text/plain": [
       "17"
      ]
     },
     "execution_count": 11,
     "metadata": {},
     "output_type": "execute_result"
    }
   ],
   "source": [
    "# This is a simple arithmentic to multiply and add integers\n",
    "result = (3*4)+5\n",
    "result"
   ]
  },
  {
   "cell_type": "code",
   "execution_count": 17,
   "id": "6540f603",
   "metadata": {},
   "outputs": [
    {
     "data": {
      "text/plain": [
       "3.3333333333333335"
      ]
     },
     "execution_count": 17,
     "metadata": {},
     "output_type": "execute_result"
    }
   ],
   "source": [
    "# This will convert 200 minutes to hours by dividing by 60\n",
    "minutes = 200\n",
    "hour = minutes / 60 \n",
    "hour"
   ]
  },
  {
   "cell_type": "markdown",
   "id": "9fa36eff",
   "metadata": {},
   "source": [
    "## Objectives:\n",
    "\n",
    "- List popular programming languages used in Data Science.\n",
    "- Create a Markdown cell to list Data Science libraries.\n",
    "- Create a code cell to perform arithmetic operations.\n",
    "- Create a code cell to convert minutes to hours.\n",
    "- Learn to integrate text and code cells effectively."
   ]
  },
  {
   "cell_type": "markdown",
   "id": "d8b9e220",
   "metadata": {},
   "source": [
    "## Author\n",
    "\n",
    "Clifford Anokwah Ampofo "
   ]
  },
  {
   "cell_type": "code",
   "execution_count": null,
   "id": "ec158110",
   "metadata": {},
   "outputs": [],
   "source": []
  }
 ],
 "metadata": {
  "kernelspec": {
   "display_name": "Python 3 (ipykernel)",
   "language": "python",
   "name": "python3"
  },
  "language_info": {
   "codemirror_mode": {
    "name": "ipython",
    "version": 3
   },
   "file_extension": ".py",
   "mimetype": "text/x-python",
   "name": "python",
   "nbconvert_exporter": "python",
   "pygments_lexer": "ipython3",
   "version": "3.9.13"
  }
 },
 "nbformat": 4,
 "nbformat_minor": 5
}
